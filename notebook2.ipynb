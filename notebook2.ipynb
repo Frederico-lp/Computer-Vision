{
 "cells": [
  {
   "attachments": {},
   "cell_type": "markdown",
   "metadata": {},
   "source": [
    "## Importing necessary modules\n"
   ]
  },
  {
   "cell_type": "code",
   "execution_count": 8,
   "metadata": {},
   "outputs": [],
   "source": [
    "import cv2\n",
    "import matplotlib.pyplot as plt\n",
    "import numpy as np"
   ]
  },
  {
   "cell_type": "code",
   "execution_count": 9,
   "metadata": {},
   "outputs": [],
   "source": [
    "img_src_4_points = cv2.imread(\"images/homography_1.jpg\")\n",
    "resize_parameter = 1.3\n",
    "plane_size = (round(130 * resize_parameter),round(160 * resize_parameter))\n"
   ]
  },
  {
   "attachments": {},
   "cell_type": "markdown",
   "metadata": {},
   "source": [
    "## Interface to select points and input their real coordinates"
   ]
  },
  {
   "cell_type": "code",
   "execution_count": 14,
   "metadata": {},
   "outputs": [
    {
     "name": "stdout",
     "output_type": "stream",
     "text": [
      "Selected points: [[443 197]\n",
      " [539 295]\n",
      " [369 378]\n",
      " [428 578]]\n",
      "Real coordinates: [[ 20.  24.]\n",
      " [ 70.  48.]\n",
      " [ 50.  96.]\n",
      " [100. 137.]]\n"
     ]
    }
   ],
   "source": [
    "\n",
    "# Define the callback function for mouse events\n",
    "def mouse_callback(event, x, y, flags, params):\n",
    "    # If left button is clicked, record the point coordinates\n",
    "    if event == cv2.EVENT_LBUTTONDOWN:\n",
    "        try:\n",
    "            params['points'].append([x, y])\n",
    "            cv2.circle(params['img_select_points'], (x, y), 5, (0, 0, 255), -1)\n",
    "            x,y = input('Enter the real coordinates of the point in the format: x, y: ').split(',')\n",
    "            params['real_coords'].append([float(x), float(y)])\n",
    "        except:\n",
    "            print('Invalid input')\n",
    "            params['points'].pop()\n",
    "            cv2.circle(params['img_select_points'], (x, y), 5, (0, 0, 0), -1)\n",
    "            if len(params['real_coords']) > params['points']:\n",
    "                params['real_coords'].pop()\n",
    "\n",
    "# Create a window and set the mouse callback function\n",
    "def select_points_from_image(img_src, no_of_points=4):\n",
    "    img_select_points = img_src.copy()\n",
    "    cv2.namedWindow('image')\n",
    "    params = {'points': [], 'real_coords': [], 'img_select_points': img_select_points}\n",
    "    cv2.setMouseCallback('image', mouse_callback, params)\n",
    "\n",
    "    # Display the image and wait for user to select points\n",
    "    while True:\n",
    "        cv2.imshow('image', img_select_points)\n",
    "        if cv2.waitKey(1) & 0xFF == ord('q'):\n",
    "            break\n",
    "        if len(params['points']) == no_of_points:\n",
    "            break\n",
    "\n",
    "    selected_pts = np.array(params['points']) \n",
    "    real_coords =  np.array(params['real_coords'])\n",
    "\n",
    "    # Print the selected points\n",
    "    print('Selected points:', selected_pts)\n",
    "    print('Real coordinates:', real_coords)\n",
    "    cv2.destroyAllWindows()\n",
    "    return selected_pts, real_coords\n",
    "\n",
    "pts_selected, coords_real = select_points_from_image(img_src_4_points, 4)"
   ]
  },
  {
   "attachments": {},
   "cell_type": "markdown",
   "metadata": {},
   "source": [
    "## Calculate homography matrix and Warp image based on it"
   ]
  },
  {
   "cell_type": "code",
   "execution_count": 16,
   "metadata": {},
   "outputs": [
    {
     "name": "stdout",
     "output_type": "stream",
     "text": [
      "Homography Matrix:\n",
      " [[ 3.88661593e-01  4.65070366e-01 -2.35532733e+02]\n",
      " [-1.93468385e-01  6.21177176e-01 -2.74955057e+00]\n",
      " [ 2.47734758e-04  1.54017393e-03  1.00000000e+00]]\n"
     ]
    }
   ],
   "source": [
    "def calculate_homography_and_warp(selected_pts, real_coords,img_src, plane_size, no_of_points=4):\n",
    "    # Calculate Homography\n",
    "    h, status = cv2.findHomography(selected_pts, real_coords)\n",
    "\n",
    "\n",
    "    print('Homography Matrix:\\n', h)\n",
    "    # Warp source image to destination based on homography\n",
    "    im_out = cv2.warpPerspective(img_src, h, plane_size)\n",
    "\n",
    "    cv2.imwrite(f'images/warped_image_{no_of_points}_points.jpg', im_out)\n",
    "    # Display images\n",
    "    cv2.imshow(\"Source Image\", img_src)\n",
    "    cv2.imshow(\"Warped Source Image\", im_out)\n",
    "\n",
    "    cv2.waitKey(0)\n",
    "\n",
    "    cv2.destroyAllWindows()\n",
    "    return h\n",
    "\n",
    "selected_pts = np.array(pts_selected) \n",
    "real_coords =  np.array(coords_real)\n",
    "homography_matrix = calculate_homography_and_warp(selected_pts, real_coords,img_src_4_points, plane_size)"
   ]
  },
  {
   "attachments": {},
   "cell_type": "markdown",
   "metadata": {},
   "source": [
    "## Warp results with 4 points"
   ]
  },
  {
   "attachments": {},
   "cell_type": "markdown",
   "metadata": {},
   "source": [
    "### Original Image\n",
    "![](./images/homography_1.jpg)\n",
    "\n",
    "### Warped Image\n",
    "![](./images/warped_image_4_points.jpg)"
   ]
  },
  {
   "attachments": {},
   "cell_type": "markdown",
   "metadata": {},
   "source": [
    "## Select two points on the image and calculate real distance and real coords on plane"
   ]
  },
  {
   "cell_type": "code",
   "execution_count": 13,
   "metadata": {},
   "outputs": [
    {
     "name": "stdout",
     "output_type": "stream",
     "text": [
      "Point 1: [442 198] -> [20.04058369 24.55908067]\n",
      "Point 2: [428 579] -> [ 99.97359462 137.32047374]\n",
      "Euclidean Distance between points : 138.21873246318984  mm\n"
     ]
    }
   ],
   "source": [
    "\n",
    "def point_select_and_dist(img_select_points, h):\n",
    "    \n",
    "    def midpoint(p1, p2):\n",
    "        return (round((p1[0]+p2[0])/2), round((p1[1]+p2[1])/2))\n",
    "\n",
    "    def mouse_callback(event, x, y, flags, params):\n",
    "        # If left button is clicked, record the point coordinates\n",
    "        if event == cv2.EVENT_LBUTTONDOWN:\n",
    "            point_in_image = np.array([x, y])\n",
    "            params['image_coords'].append(point_in_image)\n",
    "            # Convert the point to homogeneous coordinates\n",
    "            point_hom = np.append(point_in_image, 1)\n",
    "            # Compute the corresponding point in planar coordinates\n",
    "            point_in_planar = np.dot(h, point_hom)\n",
    "            point_in_planar /= point_in_planar[2] # Normalize the point  \n",
    "            point_in_planar = point_in_planar[:2] # Remove the third coordinate\n",
    "            params['planar_coords'].append(point_in_planar)\n",
    "            cv2.circle(img_select_points, (x, y), 5, (255, 0, 0), -1)\n",
    "            cv2.putText(img_select_points, str(point_in_planar), (x + 1, y + 1), cv2.FONT_HERSHEY_PLAIN, 1, (255, 0, 0), 2, cv2.LINE_AA)\n",
    "\n",
    "    # Create a window and set the mouse callback function\n",
    "    cv2.namedWindow('image')\n",
    "    params = {'image_coords': [], 'planar_coords': []}\n",
    "    cv2.setMouseCallback('image', mouse_callback, params)\n",
    "\n",
    "    # Display the image and wait for user to select points\n",
    "    while True:\n",
    "        cv2.imshow('image', img_select_points)\n",
    "        if cv2.waitKey(1) & 0xFF == ord('q'):\n",
    "            break\n",
    "        if len(params['image_coords']) == 2:\n",
    "            break\n",
    "\n",
    "    cv2.destroyWindow('image')\n",
    "    # Print the selected points\n",
    "    print('Point 1:', params['image_coords'][0], '->', params['planar_coords'][0])\n",
    "    print('Point 2:', params['image_coords'][1], '->', params['planar_coords'][1])\n",
    "    distance = np.linalg.norm(params['planar_coords'][0] - params['planar_coords'][1])\n",
    "    print('Euclidean Distance between points :', distance, ' mm')\n",
    "\n",
    "    # draw a line in between the two points\n",
    "    cv2.line(img_select_points, tuple(params['image_coords'][0]), tuple(params['image_coords'][1]), (0, 255, 0), 2)\n",
    "    middle_point_of_line = midpoint(params['image_coords'][0], params['image_coords'][1])\n",
    "    cv2.putText(img_select_points, str(distance), middle_point_of_line, cv2.FONT_HERSHEY_PLAIN, 1, (0, 0, 0), 2, cv2.LINE_8)\n",
    "\n",
    "    cv2.imshow('image_with_dist', img_select_points)\n",
    "    cv2.imwrite('images/line_with_dist_4_points.jpg', img_select_points)\n",
    "    cv2.waitKey(0)\n",
    "\n",
    "    # Close all windows\n",
    "    cv2.destroyAllWindows()\n",
    "\n",
    "img_select_points = img_src_4_points.copy()\n",
    "point_select_and_dist(img_select_points,homography_matrix)"
   ]
  },
  {
   "attachments": {},
   "cell_type": "markdown",
   "metadata": {},
   "source": [
    "# Image with distance between two points\n",
    "Its quite accurate! \n",
    "\n",
    "![ayo](./images/line_with_dist_4_points.jpg)"
   ]
  },
  {
   "attachments": {},
   "cell_type": "markdown",
   "metadata": {},
   "source": [
    "## Introducing the same plane but now with 10 points"
   ]
  },
  {
   "cell_type": "code",
   "execution_count": null,
   "metadata": {},
   "outputs": [],
   "source": [
    "img_src_10_points = cv2.imread(\"images/homography_3.jpg\")\n",
    "\n",
    "pts_selected_10, coords_real_10 = select_points_from_image(img_src_10_points,10)\n"
   ]
  },
  {
   "attachments": {},
   "cell_type": "markdown",
   "metadata": {},
   "source": [
    "## Calculate homography matrix and Warp image based on it (again)"
   ]
  },
  {
   "cell_type": "code",
   "execution_count": null,
   "metadata": {},
   "outputs": [],
   "source": [
    "selected_pts_10 = np.array(pts_selected_10) \n",
    "real_coords_10 =  np.array(coords_real_10)\n",
    "homography_matrix = calculate_homography_and_warp(selected_pts_10, real_coords_10,img_src_10_points, plane_size, 10)"
   ]
  },
  {
   "attachments": {},
   "cell_type": "markdown",
   "metadata": {},
   "source": [
    "## Warp results with 10 points\n",
    "\n",
    "### Original Image\n",
    "![](./images/homography_3.jpg)\n",
    "\n",
    "### Warped Image\n",
    "![](./images/warped_image_10_points.jpg)"
   ]
  },
  {
   "cell_type": "code",
   "execution_count": null,
   "metadata": {},
   "outputs": [],
   "source": [
    "img_select_points = img_src_10_points.copy()\n",
    "point_select_and_dist(img_select_points,homography_matrix)"
   ]
  }
 ],
 "metadata": {
  "kernelspec": {
   "display_name": "Python 3",
   "language": "python",
   "name": "python3"
  },
  "language_info": {
   "codemirror_mode": {
    "name": "ipython",
    "version": 3
   },
   "file_extension": ".py",
   "mimetype": "text/x-python",
   "name": "python",
   "nbconvert_exporter": "python",
   "pygments_lexer": "ipython3",
   "version": "3.8.3"
  },
  "orig_nbformat": 4
 },
 "nbformat": 4,
 "nbformat_minor": 2
}
